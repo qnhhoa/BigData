{
 "cells": [
  {
   "cell_type": "code",
   "execution_count": 7,
   "id": "be2e8b19",
   "metadata": {},
   "outputs": [],
   "source": [
    "import sys\n",
    "from pyspark import SparkConf, SparkContext\n",
    "from pyspark.sql import SparkSession\n",
    "from pyspark.sql import functions as func\n",
    "from pyspark.sql.types import StructType, StructField, StringType, IntegerType, LongType\n",
    "from math import sqrt"
   ]
  },
  {
   "cell_type": "code",
   "execution_count": 8,
   "id": "01a78935",
   "metadata": {},
   "outputs": [],
   "source": [
    "def computeCosineSimilarity(spark,data):\n",
    "    pairScores = data \\\n",
    "        .withColumn(\"xx\",func.col(\"rating1\")*func.col(\"rating1\")) \\\n",
    "        .withColumn(\"yy\",func.col(\"rating2\")*func.col(\"rating2\")) \\\n",
    "        .withColumn(\"xy\",func.col(\"rating1\")*func.col(\"rating2\")) \n",
    "    \n",
    "    calculateSimilarity = pairScores \\\n",
    "        .groupBy(\"movie1\",\"movie2\") \\\n",
    "        .agg(\\\n",
    "            func.sum(func.col(\"xy\")).alias(\"numerator\"), \\\n",
    "            (func.sqrt(func.sum(func.col(\"xx\")))* func.sqrt(func.sum(func.col(\"yy\")))).alias(\"denominator\"),\\\n",
    "            func.count(func.col(\"xy\")).alias(\"numPairs\")\n",
    "        )\n",
    "    \n",
    "    result = calculateSimilarity \\\n",
    "        .withColumn(\"score\", \\\n",
    "           func.when(func.col(\"denominator\")!= 0, func.col(\"numerator\") / func.col(\"denominator\"))\\\n",
    "           .otherwise(0)  \n",
    "        ).select(\"movie1\",\"movie2\",\"score\",\"numPairs\")\n",
    "    return result"
   ]
  },
  {
   "cell_type": "code",
   "execution_count": 9,
   "id": "99a4e54f",
   "metadata": {},
   "outputs": [],
   "source": [
    "def getMovieName(movieNames,movieId):\n",
    "    result = movieNames.filter(func.col(\"movieID\")== movieId) \\\n",
    "        .select(\"movieTitle\").collect()[0]\n",
    "    \n",
    "    return result[0]\n"
   ]
  },
  {
   "cell_type": "code",
   "execution_count": 28,
   "id": "1e3e91a4",
   "metadata": {},
   "outputs": [
    {
     "name": "stdout",
     "output_type": "stream",
     "text": [
      "22/12/14 15:08:57 WARN SparkSession: Using an existing Spark session; only runtime SQL configurations will take effect.\n"
     ]
    },
    {
     "name": "stderr",
     "output_type": "stream",
     "text": [
      "ERROR:root:Exception while sending command.\n",
      "Traceback (most recent call last):\n",
      "  File \"/home/minhthu/bigdata/spark-3.3.0-bin-hadoop3/python/lib/py4j-0.10.9.5-src.zip/py4j/clientserver.py\", line 516, in send_command\n",
      "    raise Py4JNetworkError(\"Answer from Java side is empty\")\n",
      "py4j.protocol.Py4JNetworkError: Answer from Java side is empty\n",
      "\n",
      "During handling of the above exception, another exception occurred:\n",
      "\n",
      "Traceback (most recent call last):\n",
      "  File \"/home/minhthu/bigdata/spark-3.3.0-bin-hadoop3/python/lib/py4j-0.10.9.5-src.zip/py4j/java_gateway.py\", line 1038, in send_command\n",
      "    response = connection.send_command(command)\n",
      "  File \"/home/minhthu/bigdata/spark-3.3.0-bin-hadoop3/python/lib/py4j-0.10.9.5-src.zip/py4j/clientserver.py\", line 539, in send_command\n",
      "    raise Py4JNetworkError(\n",
      "py4j.protocol.Py4JNetworkError: Error while sending or receiving\n"
     ]
    }
   ],
   "source": [
    "spark = SparkSession.builder.appName(\"MovieSimilarities\").master(\"local[*]\").getOrCreate()"
   ]
  },
  {
   "cell_type": "code",
   "execution_count": 11,
   "id": "6db950fd",
   "metadata": {},
   "outputs": [],
   "source": [
    "movieNamesSchema = StructType([\\\n",
    "                              StructField(\"movieID\", IntegerType(),True), \\\n",
    "                              StructField(\"movieTitle\",StringType(),True) \\\n",
    "                              ])"
   ]
  },
  {
   "cell_type": "code",
   "execution_count": 15,
   "id": "fb13f956",
   "metadata": {},
   "outputs": [],
   "source": [
    "moviesSchema = StructType([\\\n",
    "                           StructField(\"userID\", IntegerType(),True), \\\n",
    "                           StructField(\"movieID\",IntegerType(),True), \\\n",
    "                           StructField(\"rating\", IntegerType(),True), \\\n",
    "                           StructField(\"timestamp\",LongType(),True)])"
   ]
  },
  {
   "cell_type": "code",
   "execution_count": 16,
   "id": "c46f2018",
   "metadata": {},
   "outputs": [],
   "source": [
    "movieNames = spark.read \\\n",
    "    .option(\"sep\",\"|\") \\\n",
    "    .option(\"charset\",\"ISO-8859-1\") \\\n",
    "    .schema(movieNamesSchema) \\\n",
    "    .csv(\"/home/minhthu/Downloads/ml-100k/u.item\")"
   ]
  },
  {
   "cell_type": "code",
   "execution_count": 17,
   "id": "7165e169",
   "metadata": {},
   "outputs": [],
   "source": [
    "movies = spark.read \\\n",
    "    .option(\"sep\",\"\\t\") \\\n",
    "    .schema(moviesSchema) \\\n",
    "    .csv(\"/home/minhthu/Downloads/ml-100k/u.data\")"
   ]
  },
  {
   "cell_type": "code",
   "execution_count": 18,
   "id": "df33477a",
   "metadata": {},
   "outputs": [],
   "source": [
    "ratings = movies.select(\"userId\",\"movieId\",\"rating\")"
   ]
  },
  {
   "cell_type": "code",
   "execution_count": 22,
   "id": "a8f12a24",
   "metadata": {},
   "outputs": [],
   "source": [
    "moviePairs = ratings.alias(\"ratings1\") \\\n",
    "    .join(ratings.alias(\"ratings2\"),(func.col(\"ratings1.userId\") == func.col(\"ratings2.userId\"))\n",
    "         &(func.col(\"ratings1.movieId\") < func.col(\"ratings2.movieId\"))) \\\n",
    "    .select(func.col(\"ratings1.movieId\").alias(\"movie1\"), \\\n",
    "           func.col(\"ratings2.movieId\").alias(\"movie2\"), \\\n",
    "           func.col(\"ratings1.rating\").alias(\"rating1\"), \\\n",
    "           func.col(\"ratings2.rating\").alias(\"rating2\"))"
   ]
  },
  {
   "cell_type": "code",
   "execution_count": 23,
   "id": "70fe33a6",
   "metadata": {},
   "outputs": [],
   "source": [
    "moviePairSimilarities = computeCosineSimilarity(spark,moviePairs).cache()"
   ]
  },
  {
   "cell_type": "code",
   "execution_count": 27,
   "id": "de2237f7",
   "metadata": {},
   "outputs": [
    {
     "ename": "ValueError",
     "evalue": "invalid literal for int() with base 10: '-f'",
     "output_type": "error",
     "traceback": [
      "\u001b[0;31m---------------------------------------------------------------------------\u001b[0m",
      "\u001b[0;31mValueError\u001b[0m                                Traceback (most recent call last)",
      "Cell \u001b[0;32mIn [27], line 6\u001b[0m\n\u001b[1;32m      3\u001b[0m     scoreThreshold \u001b[38;5;241m=\u001b[39m \u001b[38;5;241m0.97\u001b[39m\n\u001b[1;32m      4\u001b[0m     coOccurenceThreshold \u001b[38;5;241m=\u001b[39m \u001b[38;5;241m50.0\u001b[39m\n\u001b[0;32m----> 6\u001b[0m     movieID \u001b[38;5;241m=\u001b[39m \u001b[38;5;28;43mint\u001b[39;49m\u001b[43m(\u001b[49m\u001b[43msys\u001b[49m\u001b[38;5;241;43m.\u001b[39;49m\u001b[43margv\u001b[49m\u001b[43m[\u001b[49m\u001b[38;5;241;43m1\u001b[39;49m\u001b[43m]\u001b[49m\u001b[43m)\u001b[49m\n\u001b[1;32m      8\u001b[0m \u001b[38;5;66;03m#     filteredResults = moviePairSimilarities.filter(lambda((pair,sim)):(pair[0] == movieID or pair[1] == movieID) and sim[0] > scoreThreshold and sim[1] > coOccurenceThreshold)\u001b[39;00m\n\u001b[1;32m     10\u001b[0m     filteredResults \u001b[38;5;241m=\u001b[39m moviePairSimilarities\u001b[38;5;241m.\u001b[39mfilter( \\\n\u001b[1;32m     11\u001b[0m         ((func\u001b[38;5;241m.\u001b[39mcol(\u001b[38;5;124m\"\u001b[39m\u001b[38;5;124mmovie1\u001b[39m\u001b[38;5;124m\"\u001b[39m) \u001b[38;5;241m==\u001b[39m movieID) \u001b[38;5;241m|\u001b[39m (func\u001b[38;5;241m.\u001b[39mcol(\u001b[38;5;124m\"\u001b[39m\u001b[38;5;124mmovie2\u001b[39m\u001b[38;5;124m\"\u001b[39m) \u001b[38;5;241m==\u001b[39m movieID)) \u001b[38;5;241m&\u001b[39m \\\n\u001b[1;32m     12\u001b[0m             (func\u001b[38;5;241m.\u001b[39mcol(\u001b[38;5;124m\"\u001b[39m\u001b[38;5;124mscore\u001b[39m\u001b[38;5;124m\"\u001b[39m) \u001b[38;5;241m>\u001b[39m scoreThreshold) \u001b[38;5;241m&\u001b[39m (func\u001b[38;5;241m.\u001b[39mcol(\u001b[38;5;124m\"\u001b[39m\u001b[38;5;124mnumPairs\u001b[39m\u001b[38;5;124m\"\u001b[39m) \u001b[38;5;241m>\u001b[39m coOccurenceThreshold))\n",
      "\u001b[0;31mValueError\u001b[0m: invalid literal for int() with base 10: '-f'"
     ]
    }
   ],
   "source": [
    "if (len(sys.argv) > 1):\n",
    "    \n",
    "    scoreThreshold = 0.97\n",
    "    coOccurenceThreshold = 50.0\n",
    "    \n",
    "    movieID = int(sys.argv[1])\n",
    "    \n",
    "#     filteredResults = moviePairSimilarities.filter(lambda((pair,sim)):(pair[0] == movieID or pair[1] == movieID) and sim[0] > scoreThreshold and sim[1] > coOccurenceThreshold)\n",
    "    \n",
    "    filteredResults = moviePairSimilarities.filter( \\\n",
    "        ((func.col(\"movie1\") == movieID) | (func.col(\"movie2\") == movieID)) & \\\n",
    "            (func.col(\"score\") > scoreThreshold) & (func.col(\"numPairs\") > coOccurenceThreshold))\n",
    "    \n",
    "    \n",
    "    results = filteredResults.sort(func.col(\"score\").desc()).take(10)\n",
    "    \n",
    "    print (\"Top 10 similar movies for\" + getMovieName(movieNames,movieID))\n",
    "    \n",
    "    for result in results:\n",
    "        similarMovieID = result.movie1\n",
    "        if(similarMovieID == movieID):\n",
    "            similarMovieID = result.movie2\n",
    "            \n",
    "        print(getMovieName(movieNames,similarMovieID) + \"\\tscore: \" \\\n",
    "              + str(result.score) + \"\\tstrength: \" + str(result.numPairs))"
   ]
  },
  {
   "cell_type": "code",
   "execution_count": null,
   "id": "32712f26",
   "metadata": {},
   "outputs": [],
   "source": []
  }
 ],
 "metadata": {
  "kernelspec": {
   "display_name": "Python 3 (ipykernel)",
   "language": "python",
   "name": "python3"
  },
  "language_info": {
   "codemirror_mode": {
    "name": "ipython",
    "version": 3
   },
   "file_extension": ".py",
   "mimetype": "text/x-python",
   "name": "python",
   "nbconvert_exporter": "python",
   "pygments_lexer": "ipython3",
   "version": "3.10.6"
  }
 },
 "nbformat": 4,
 "nbformat_minor": 5
}
